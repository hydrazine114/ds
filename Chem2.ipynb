{
 "cells": [
  {
   "cell_type": "code",
   "execution_count": 1,
   "id": "56a4d7eb-e011-4e28-bc92-40c22126c0f4",
   "metadata": {},
   "outputs": [],
   "source": [
    "from sklearn.linear_model import LinearRegression\n",
    "import matplotlib.pyplot as plt\n",
    "import seaborn as sns\n",
    "import pandas as pd\n",
    "import numpy as np"
   ]
  },
  {
   "cell_type": "code",
   "execution_count": 52,
   "id": "8c90efc1-db79-4f3d-a0ca-0eed423b1b89",
   "metadata": {},
   "outputs": [
    {
     "data": {
      "text/html": [
       "<div>\n",
       "<style scoped>\n",
       "    .dataframe tbody tr th:only-of-type {\n",
       "        vertical-align: middle;\n",
       "    }\n",
       "\n",
       "    .dataframe tbody tr th {\n",
       "        vertical-align: top;\n",
       "    }\n",
       "\n",
       "    .dataframe thead th {\n",
       "        text-align: right;\n",
       "    }\n",
       "</style>\n",
       "<table border=\"1\" class=\"dataframe\">\n",
       "  <thead>\n",
       "    <tr style=\"text-align: right;\">\n",
       "      <th></th>\n",
       "      <th>logc</th>\n",
       "      <th>sigma</th>\n",
       "      <th>mvol</th>\n",
       "      <th>l</th>\n",
       "    </tr>\n",
       "  </thead>\n",
       "  <tbody>\n",
       "    <tr>\n",
       "      <th>0</th>\n",
       "      <td>7.59</td>\n",
       "      <td>-0.07</td>\n",
       "      <td>2.32</td>\n",
       "      <td>2.06</td>\n",
       "    </tr>\n",
       "    <tr>\n",
       "      <th>1</th>\n",
       "      <td>7.75</td>\n",
       "      <td>0.27</td>\n",
       "      <td>2.29</td>\n",
       "      <td>2.65</td>\n",
       "    </tr>\n",
       "    <tr>\n",
       "      <th>2</th>\n",
       "      <td>7.52</td>\n",
       "      <td>0.30</td>\n",
       "      <td>2.44</td>\n",
       "      <td>3.52</td>\n",
       "    </tr>\n",
       "    <tr>\n",
       "      <th>3</th>\n",
       "      <td>5.54</td>\n",
       "      <td>0.61</td>\n",
       "      <td>2.31</td>\n",
       "      <td>2.65</td>\n",
       "    </tr>\n",
       "    <tr>\n",
       "      <th>4</th>\n",
       "      <td>8.30</td>\n",
       "      <td>-0.78</td>\n",
       "      <td>2.50</td>\n",
       "      <td>2.06</td>\n",
       "    </tr>\n",
       "    <tr>\n",
       "      <th>5</th>\n",
       "      <td>8.70</td>\n",
       "      <td>-0.78</td>\n",
       "      <td>2.46</td>\n",
       "      <td>2.06</td>\n",
       "    </tr>\n",
       "    <tr>\n",
       "      <th>6</th>\n",
       "      <td>6.92</td>\n",
       "      <td>-0.44</td>\n",
       "      <td>2.52</td>\n",
       "      <td>2.65</td>\n",
       "    </tr>\n",
       "    <tr>\n",
       "      <th>7</th>\n",
       "      <td>7.80</td>\n",
       "      <td>-0.44</td>\n",
       "      <td>2.48</td>\n",
       "      <td>2.65</td>\n",
       "    </tr>\n",
       "    <tr>\n",
       "      <th>8</th>\n",
       "      <td>6.85</td>\n",
       "      <td>-0.41</td>\n",
       "      <td>2.62</td>\n",
       "      <td>3.52</td>\n",
       "    </tr>\n",
       "    <tr>\n",
       "      <th>9</th>\n",
       "      <td>8.05</td>\n",
       "      <td>-0.41</td>\n",
       "      <td>2.58</td>\n",
       "      <td>3.52</td>\n",
       "    </tr>\n",
       "    <tr>\n",
       "      <th>10</th>\n",
       "      <td>8.30</td>\n",
       "      <td>-1.33</td>\n",
       "      <td>2.80</td>\n",
       "      <td>3.52</td>\n",
       "    </tr>\n",
       "    <tr>\n",
       "      <th>11</th>\n",
       "      <td>8.70</td>\n",
       "      <td>-1.33</td>\n",
       "      <td>2.76</td>\n",
       "      <td>3.52</td>\n",
       "    </tr>\n",
       "  </tbody>\n",
       "</table>\n",
       "</div>"
      ],
      "text/plain": [
       "    logc  sigma  mvol     l\n",
       "0   7.59  -0.07  2.32  2.06\n",
       "1   7.75   0.27  2.29  2.65\n",
       "2   7.52   0.30  2.44  3.52\n",
       "3   5.54   0.61  2.31  2.65\n",
       "4   8.30  -0.78  2.50  2.06\n",
       "5   8.70  -0.78  2.46  2.06\n",
       "6   6.92  -0.44  2.52  2.65\n",
       "7   7.80  -0.44  2.48  2.65\n",
       "8   6.85  -0.41  2.62  3.52\n",
       "9   8.05  -0.41  2.58  3.52\n",
       "10  8.30  -1.33  2.80  3.52\n",
       "11  8.70  -1.33  2.76  3.52"
      ]
     },
     "execution_count": 52,
     "metadata": {},
     "output_type": "execute_result"
    }
   ],
   "source": [
    "data = pd.read_excel('mol.xlsx')\n",
    "X = data.drop(columns=['CMR'])\n",
    "y = data['CMR']\n",
    "data = pd.read_excel('mol1.xlsx')\n",
    "X = data.drop(columns=['logc'])\n",
    "y = data['logc']\n",
    "data"
   ]
  },
  {
   "cell_type": "code",
   "execution_count": 64,
   "id": "8bb00fc1-63f4-4a73-8a68-127f828630f7",
   "metadata": {},
   "outputs": [
    {
     "data": {
      "text/plain": [
       "array([ -5.14399873, -19.65667521,   2.39170815])"
      ]
     },
     "execution_count": 64,
     "metadata": {},
     "output_type": "execute_result"
    }
   ],
   "source": [
    "from sklearn.linear_model import Lasso, Ridge\n",
    "model = Lasso(alpha=1e-5)\n",
    "# model = Ridge()\n",
    "model.fit(X, y)\n",
    "model.coef_"
   ]
  },
  {
   "cell_type": "code",
   "execution_count": 65,
   "id": "df0cd752-de1f-4e7b-94bf-f194d5018dc5",
   "metadata": {},
   "outputs": [
    {
     "data": {
      "text/plain": [
       "0.8808540544893484"
      ]
     },
     "execution_count": 65,
     "metadata": {},
     "output_type": "execute_result"
    },
    {
     "data": {
      "image/png": "[encoded data removed]",
      "text/plain": [
       "<Figure size 900x600 with 1 Axes>"
      ]
     },
     "metadata": {
      "needs_background": "light"
     },
     "output_type": "display_data"
    }
   ],
   "source": [
    "y_pred = model.predict(X)\n",
    "fig, ax = plt.subplots(dpi=150)\n",
    "ax.plot(y, y_pred, '.')\n",
    "# ax.plot([2,4], [2, 4], '--')\n",
    "r2_score(y_pred, y)"
   ]
  },
  {
   "cell_type": "code",
   "execution_count": 45,
   "id": "34c08f71-6509-472a-bd89-c17aa00c1379",
   "metadata": {},
   "outputs": [
    {
     "data": {
      "text/plain": [
       "0.20489352751935458"
      ]
     },
     "execution_count": 45,
     "metadata": {},
     "output_type": "execute_result"
    }
   ],
   "source": [
    "from sklearn.metrics import mean_squared_error\n",
    "mean_squared_error(y, y_pred, squared=False)"
   ]
  },
  {
   "cell_type": "code",
   "execution_count": 46,
   "id": "4f97b555-5c4d-4215-a4d9-051618553dae",
   "metadata": {},
   "outputs": [
    {
     "data": {
      "text/plain": [
       "0.6676207581013813"
      ]
     },
     "execution_count": 46,
     "metadata": {},
     "output_type": "execute_result"
    }
   ],
   "source": [
    "model.score(X, y)\n",
    "from sklearn.metrics import r2_score\n",
    "r2_score(y_pred, y)"
   ]
  }
 ],
 "metadata": {
  "kernelspec": {
   "display_name": "Python 3 (ipykernel)",
   "language": "python",
   "name": "python3"
  },
  "language_info": {
   "codemirror_mode": {
    "name": "ipython",
    "version": 3
   },
   "file_extension": ".py",
   "mimetype": "text/x-python",
   "name": "python",
   "nbconvert_exporter": "python",
   "pygments_lexer": "ipython3",
   "version": "3.8.5"
  }
 },
 "nbformat": 4,
 "nbformat_minor": 5
}
