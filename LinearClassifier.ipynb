{
 "cells": [
  {
   "cell_type": "code",
   "execution_count": 1,
   "id": "46ddb556-c608-4c8f-baf8-a9490c615e33",
   "metadata": {},
   "outputs": [],
   "source": [
    "import numpy as np\n",
    "import matplotlib.pyplot as plt\n",
    "import pandas as pd"
   ]
  },
  {
   "cell_type": "code",
   "execution_count": 2,
   "id": "f61bba54-ddb9-4159-9185-2f60fd83c027",
   "metadata": {},
   "outputs": [
    {
     "data": {
      "text/html": [
       "<div>\n",
       "<style scoped>\n",
       "    .dataframe tbody tr th:only-of-type {\n",
       "        vertical-align: middle;\n",
       "    }\n",
       "\n",
       "    .dataframe tbody tr th {\n",
       "        vertical-align: top;\n",
       "    }\n",
       "\n",
       "    .dataframe thead th {\n",
       "        text-align: right;\n",
       "    }\n",
       "</style>\n",
       "<table border=\"1\" class=\"dataframe\">\n",
       "  <thead>\n",
       "    <tr style=\"text-align: right;\">\n",
       "      <th></th>\n",
       "      <th>PassengerId</th>\n",
       "      <th>Pclass</th>\n",
       "      <th>Name</th>\n",
       "      <th>Sex</th>\n",
       "      <th>Age</th>\n",
       "      <th>SibSp</th>\n",
       "      <th>Parch</th>\n",
       "      <th>Ticket</th>\n",
       "      <th>Fare</th>\n",
       "      <th>Cabin</th>\n",
       "      <th>Embarked</th>\n",
       "    </tr>\n",
       "  </thead>\n",
       "  <tbody>\n",
       "    <tr>\n",
       "      <th>7</th>\n",
       "      <td>8</td>\n",
       "      <td>3</td>\n",
       "      <td>Palsson, Master. Gosta Leonard</td>\n",
       "      <td>male</td>\n",
       "      <td>2.0</td>\n",
       "      <td>3</td>\n",
       "      <td>1</td>\n",
       "      <td>349909</td>\n",
       "      <td>21.0750</td>\n",
       "      <td>NaN</td>\n",
       "      <td>S</td>\n",
       "    </tr>\n",
       "    <tr>\n",
       "      <th>765</th>\n",
       "      <td>766</td>\n",
       "      <td>1</td>\n",
       "      <td>Hogeboom, Mrs. John C (Anna Andrews)</td>\n",
       "      <td>female</td>\n",
       "      <td>51.0</td>\n",
       "      <td>1</td>\n",
       "      <td>0</td>\n",
       "      <td>13502</td>\n",
       "      <td>77.9583</td>\n",
       "      <td>D11</td>\n",
       "      <td>S</td>\n",
       "    </tr>\n",
       "    <tr>\n",
       "      <th>339</th>\n",
       "      <td>340</td>\n",
       "      <td>1</td>\n",
       "      <td>Blackwell, Mr. Stephen Weart</td>\n",
       "      <td>male</td>\n",
       "      <td>45.0</td>\n",
       "      <td>0</td>\n",
       "      <td>0</td>\n",
       "      <td>113784</td>\n",
       "      <td>35.5000</td>\n",
       "      <td>T</td>\n",
       "      <td>S</td>\n",
       "    </tr>\n",
       "    <tr>\n",
       "      <th>374</th>\n",
       "      <td>375</td>\n",
       "      <td>3</td>\n",
       "      <td>Palsson, Miss. Stina Viola</td>\n",
       "      <td>female</td>\n",
       "      <td>3.0</td>\n",
       "      <td>3</td>\n",
       "      <td>1</td>\n",
       "      <td>349909</td>\n",
       "      <td>21.0750</td>\n",
       "      <td>NaN</td>\n",
       "      <td>S</td>\n",
       "    </tr>\n",
       "    <tr>\n",
       "      <th>183</th>\n",
       "      <td>184</td>\n",
       "      <td>2</td>\n",
       "      <td>Becker, Master. Richard F</td>\n",
       "      <td>male</td>\n",
       "      <td>1.0</td>\n",
       "      <td>2</td>\n",
       "      <td>1</td>\n",
       "      <td>230136</td>\n",
       "      <td>39.0000</td>\n",
       "      <td>F4</td>\n",
       "      <td>S</td>\n",
       "    </tr>\n",
       "  </tbody>\n",
       "</table>\n",
       "</div>"
      ],
      "text/plain": [
       "     PassengerId  Pclass                                  Name     Sex   Age  \\\n",
       "7              8       3        Palsson, Master. Gosta Leonard    male   2.0   \n",
       "765          766       1  Hogeboom, Mrs. John C (Anna Andrews)  female  51.0   \n",
       "339          340       1          Blackwell, Mr. Stephen Weart    male  45.0   \n",
       "374          375       3            Palsson, Miss. Stina Viola  female   3.0   \n",
       "183          184       2             Becker, Master. Richard F    male   1.0   \n",
       "\n",
       "     SibSp  Parch  Ticket     Fare Cabin Embarked  \n",
       "7        3      1  349909  21.0750   NaN        S  \n",
       "765      1      0   13502  77.9583   D11        S  \n",
       "339      0      0  113784  35.5000     T        S  \n",
       "374      3      1  349909  21.0750   NaN        S  \n",
       "183      2      1  230136  39.0000    F4        S  "
      ]
     },
     "execution_count": 2,
     "metadata": {},
     "output_type": "execute_result"
    }
   ],
   "source": [
    "titanic = pd.read_csv('files/titanic.csv')\n",
    "data = titanic.copy()\n",
    "data[['Age', 'Fare']] = data[['Age', 'Fare']].fillna(data[['Age', 'Fare']].mean())\n",
    "\n",
    "from sklearn.model_selection import StratifiedKFold as SK\n",
    "from sklearn.model_selection import train_test_split\n",
    "\n",
    "y = data['Survived']\n",
    "X = data.drop(columns=['Survived'])\n",
    "X_train, X_test, y_train, y_test = train_test_split(X, y, test_size=0.3, random_state=10)\n",
    "X_train.head()"
   ]
  },
  {
   "cell_type": "code",
   "execution_count": 6,
   "id": "d007e2e8-ba2f-4d65-93c1-b53a95032ab7",
   "metadata": {},
   "outputs": [
    {
     "name": "stdout",
     "output_type": "stream",
     "text": [
      " 0.864\n"
     ]
    }
   ],
   "source": [
    "from sklearn.preprocessing import OneHotEncoder\n",
    "from sklearn.compose import ColumnTransformer\n",
    "from sklearn.preprocessing import StandardScaler\n",
    "from sklearn.linear_model import LogisticRegression\n",
    "from sklearn.pipeline import Pipeline\n",
    "from sklearn.preprocessing import OrdinalEncoder\n",
    "\n",
    "categorical = ['Pclass', 'Sex', 'SibSp', 'Parch']\n",
    "numeric_features = ['Age', 'Fare',]\n",
    "column_transformer = ColumnTransformer([\n",
    "    ('Ordin', OrdinalEncoder(), categorical),\n",
    "    ('scaling', StandardScaler(), numeric_features)\n",
    "])\n",
    "\n",
    "pipeline = Pipeline(steps=[\n",
    "    ('preprocessor', column_transformer),\n",
    "    ('regression', LogisticRegression(C=1, penalty='l1', solver='liblinear', random_state=42))\n",
    "])\n",
    "\n",
    "from sklearn.metrics import roc_auc_score\n",
    "model = pipeline.fit(X_train, y_train)\n",
    "b = model.predict_proba(X_test)[:, 1]\n",
    "print('{:6.3f}'.format(roc_auc_score(y_test, b)))"
   ]
  },
  {
   "cell_type": "code",
   "execution_count": 10,
   "id": "f833bf1f-2ac6-400d-bb27-fff563ed38ca",
   "metadata": {},
   "outputs": [
    {
     "data": {
      "text/plain": [
       "'Precision =  0.762, Recall =  0.681'"
      ]
     },
     "execution_count": 10,
     "metadata": {},
     "output_type": "execute_result"
    }
   ],
   "source": [
    "from sklearn.metrics import confusion_matrix\n",
    "tn, fp, fn, tp = confusion_matrix(y_test, model.predict(X_test)).ravel()\n",
    "tn, fp, fn, tp\n",
    "P = tp/(tp+fp)\n",
    "R = tp/(tp+fn)\n",
    "'Precision = {:6.3f}, Recall = {:6.3f}'.format(P, R)"
   ]
  },
  {
   "cell_type": "code",
   "execution_count": 13,
   "id": "763149af-85de-4fed-bd27-f3784a90847c",
   "metadata": {},
   "outputs": [
    {
     "data": {
      "text/plain": [
       "array([[342,  33],\n",
       "       [ 73, 175]], dtype=int64)"
      ]
     },
     "execution_count": 13,
     "metadata": {},
     "output_type": "execute_result"
    }
   ],
   "source": [
    "confusion_matrix(y_train, model.predict(X_train))"
   ]
  },
  {
   "cell_type": "code",
   "execution_count": 5,
   "id": "60747e6d-20f2-4b80-a0b3-5f2214b04bc3",
   "metadata": {},
   "outputs": [],
   "source": [
    "coef = pipeline.named_steps['regression'].coef_[0,:]\n",
    "categorical_processed = pipeline.named_steps['preprocessor'].transformers_[0][1].get_feature_names_out(categorical)\n",
    "numerical_processed = pipeline.named_steps['preprocessor'].transformers_[1][1].get_feature_names_out(numeric_features)"
   ]
  },
  {
   "cell_type": "code",
   "execution_count": 6,
   "id": "b33e11c1-f18b-42a4-a33f-cf827df7bff7",
   "metadata": {},
   "outputs": [
    {
     "name": "stdout",
     "output_type": "stream",
     "text": [
      "Pclass_1   :    1.015\n",
      "Pclass_2   :    0.000\n",
      "Pclass_3   :   -0.830\n",
      "Sex_female :    0.000\n",
      "Sex_male   :   -2.596\n",
      "SibSp_0    :    1.289\n",
      "SibSp_1    :    1.142\n",
      "SibSp_2    :    0.925\n",
      "SibSp_3    :   -1.041\n",
      "SibSp_4    :   -1.146\n",
      "SibSp_5    :    0.000\n",
      "SibSp_8    :    0.000\n",
      "Parch_0    :    0.142\n",
      "Parch_1    :    0.588\n",
      "Parch_2    :    0.000\n",
      "Parch_3    :    0.000\n",
      "Parch_4    :    0.000\n",
      "Parch_5    :   -0.206\n",
      "Parch_6    :    0.000\n",
      "Age        :   -0.328\n",
      "Fare       :    0.045\n"
     ]
    }
   ],
   "source": [
    "all_names = np.hstack((categorical_processed, numerical_processed))\n",
    "for i in range(all_names.shape[0]):\n",
    "    print('{:11s}: {:8.3f}'.format(all_names[i], coef[i]))"
   ]
  },
  {
   "cell_type": "code",
   "execution_count": 7,
   "id": "749b43ad-3baf-40f4-b3db-5e507777fdb4",
   "metadata": {},
   "outputs": [
    {
     "data": {
      "text/plain": [
       "2.9763514416313175"
      ]
     },
     "execution_count": 7,
     "metadata": {},
     "output_type": "execute_result"
    }
   ],
   "source": [
    "from sklearn.model_selection import GridSearchCV\n",
    "param = np.logspace(-1, 1, 20)\n",
    "searcher = GridSearchCV(pipeline, [{'regression__C': param}], cv=10)\n",
    "searcher.fit(X_train, y_train)\n",
    "# pipeline.get_params().keys()\n",
    "searcher.best_params_['regression__C']"
   ]
  },
  {
   "cell_type": "code",
   "execution_count": 14,
   "id": "924a71ef-b455-46bb-af10-eca054b079c5",
   "metadata": {},
   "outputs": [
    {
     "name": "stdout",
     "output_type": "stream",
     "text": [
      " 0.843\n"
     ]
    }
   ],
   "source": [
    "from sklearn.svm import SVC\n",
    "pipeline = Pipeline(steps=[\n",
    "    ('preprocessor', column_transformer),\n",
    "    ('regression', SVC(gamma='scale', C=1, probability=True, random_state=42))\n",
    "])\n",
    "model = pipeline.fit(X_train, y_train)\n",
    "b = model.predict_proba(X_test)[:, 1]\n",
    "print('{:6.3f}'.format(roc_auc_score(y_test, b)))"
   ]
  },
  {
   "cell_type": "code",
   "execution_count": 15,
   "id": "12fc1412-0f1a-48b7-95ee-cfc872fd5cfd",
   "metadata": {},
   "outputs": [
    {
     "data": {
      "text/plain": [
       "array([[342,  33],\n",
       "       [ 73, 175]], dtype=int64)"
      ]
     },
     "execution_count": 15,
     "metadata": {},
     "output_type": "execute_result"
    }
   ],
   "source": [
    "confusion_matrix(y_train, model.predict(X_train))"
   ]
  }
 ],
 "metadata": {
  "kernelspec": {
   "display_name": "Python 3 (ipykernel)",
   "language": "python",
   "name": "python3"
  },
  "language_info": {
   "codemirror_mode": {
    "name": "ipython",
    "version": 3
   },
   "file_extension": ".py",
   "mimetype": "text/x-python",
   "name": "python",
   "nbconvert_exporter": "python",
   "pygments_lexer": "ipython3",
   "version": "3.8.5"
  }
 },
 "nbformat": 4,
 "nbformat_minor": 5
}
