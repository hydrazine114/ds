{
 "cells": [
  {
   "cell_type": "code",
   "execution_count": 84,
   "id": "87a9b458-6204-4910-b552-436e0ff83d26",
   "metadata": {},
   "outputs": [],
   "source": [
    "import numpy as np\n",
    "import matplotlib.pyplot as plt\n",
    "import pandas as pd\n",
    "from sklearn.model_selection import StratifiedKFold as SK\n",
    "from sklearn.model_selection import train_test_split"
   ]
  },
  {
   "cell_type": "code",
   "execution_count": 154,
   "id": "ef1e0ab2-fa6d-4b42-9aaa-de0d393a1365",
   "metadata": {},
   "outputs": [
    {
     "data": {
      "text/plain": [
       "177"
      ]
     },
     "execution_count": 154,
     "metadata": {},
     "output_type": "execute_result"
    }
   ],
   "source": [
    "titanic = pd.read_csv('files/titanic.csv')\n",
    "data = titanic.copy() \n",
    "# data[['Age', 'Fare']] = data[['Age', 'Fare']].fillna(data[['Age', 'Fare']].mean())\n",
    "\n",
    "y = data['Survived']\n",
    "X = data.drop(columns=['Survived'])\n",
    "\n",
    "X_train, X_test, y_train, y_test = train_test_split(X, y, test_size=0.2, random_state=42)\n",
    "np.sum(data['Age'].isnull())"
   ]
  },
  {
   "cell_type": "code",
   "execution_count": 144,
   "id": "34181cf9-0989-413f-9763-809035c12d50",
   "metadata": {},
   "outputs": [],
   "source": [
    "from sklearn.preprocessing import OrdinalEncoder, StandardScaler\n",
    "from sklearn.compose import ColumnTransformer\n",
    "from sklearn.pipeline import Pipeline\n",
    "from sklearn.ensemble import GradientBoostingClassifier, AdaBoostClassifier, HistGradientBoostingClassifier, VotingClassifier\n",
    "from sklearn.metrics import roc_auc_score, confusion_matrix, accuracy_score\n",
    "import xgboost\n",
    "import catboost\n",
    "\n",
    "categorical = ['Sex', 'Embarked']\n",
    "numeric_features = ['Pclass', 'Age', 'Fare', 'SibSp', 'Parch']\n",
    "column_transformer = ColumnTransformer([\n",
    "    ('ohe', OrdinalEncoder(), categorical),\n",
    "    ('scaling', StandardScaler(), numeric_features) # how to not scaling?\n",
    "])\n",
    "\n",
    "pipeline0 = Pipeline(steps=[\n",
    "    ('preprocessor', column_transformer),\n",
    "    ('regression', HistGradientBoostingClassifier(max_depth=3, random_state=42, learning_rate=1e-1))\n",
    "])\n",
    "\n",
    "\n",
    "pipeline1 = Pipeline(steps=[\n",
    "    ('preprocessor', column_transformer),\n",
    "    ('regression', catboost.CatBoostClassifier(max_depth=3, n_estimators=100, random_state=41, learning_rate=1e-1))\n",
    "])\n",
    "\n",
    "pipeline2 = Pipeline(steps=[\n",
    "    ('preprocessor', column_transformer),\n",
    "    ('regression', xgboost.XGBClassifier(max_depth=3, eval_metric='logloss', n_estimators=100, random_state=40, learning_rate=1e-1, use_label_encoder=True))\n",
    "])\n",
    "# model = pipeline.fit(X_train, y_train)\n",
    "# y_predict = model.predict(X_test)\n",
    "# accuracy_score(y_predict, y_test)"
   ]
  },
  {
   "cell_type": "code",
   "execution_count": 145,
   "id": "f948b692-ab3b-43df-91b0-816a6e089040",
   "metadata": {},
   "outputs": [],
   "source": [
    "model = VotingClassifier(estimators=[\n",
    "        ('p0', pipeline0), ('p1', pipeline0), ('p2', pipeline0)], voting='hard').fit(X_train, y_train)"
   ]
  },
  {
   "cell_type": "code",
   "execution_count": 150,
   "id": "2517817c-9cc7-42d6-a43a-33550c7d367c",
   "metadata": {},
   "outputs": [
    {
     "name": "stdout",
     "output_type": "stream",
     "text": [
      "0:\tlearn: 0.6552874\ttotal: 559us\tremaining: 55.4ms\n",
      "1:\tlearn: 0.6240613\ttotal: 1.07ms\tremaining: 52.3ms\n",
      "2:\tlearn: 0.5973031\ttotal: 1.65ms\tremaining: 53.5ms\n",
      "3:\tlearn: 0.5749420\ttotal: 2.07ms\tremaining: 49.8ms\n",
      "4:\tlearn: 0.5564055\ttotal: 2.48ms\tremaining: 47.2ms\n",
      "5:\tlearn: 0.5398172\ttotal: 2.91ms\tremaining: 45.7ms\n",
      "6:\tlearn: 0.5261048\ttotal: 3.35ms\tremaining: 44.5ms\n",
      "7:\tlearn: 0.5161985\ttotal: 3.79ms\tremaining: 43.5ms\n",
      "8:\tlearn: 0.5058830\ttotal: 4.19ms\tremaining: 42.4ms\n",
      "9:\tlearn: 0.4977429\ttotal: 4.63ms\tremaining: 41.6ms\n",
      "10:\tlearn: 0.4914926\ttotal: 5.17ms\tremaining: 41.9ms\n",
      "11:\tlearn: 0.4845303\ttotal: 5.6ms\tremaining: 41.1ms\n",
      "12:\tlearn: 0.4818997\ttotal: 6.02ms\tremaining: 40.3ms\n",
      "13:\tlearn: 0.4769520\ttotal: 6.53ms\tremaining: 40.1ms\n",
      "14:\tlearn: 0.4733918\ttotal: 7ms\tremaining: 39.7ms\n",
      "15:\tlearn: 0.4685650\ttotal: 7.5ms\tremaining: 39.4ms\n",
      "16:\tlearn: 0.4651845\ttotal: 7.91ms\tremaining: 38.6ms\n",
      "17:\tlearn: 0.4614386\ttotal: 8.37ms\tremaining: 38.1ms\n",
      "18:\tlearn: 0.4575054\ttotal: 8.78ms\tremaining: 37.4ms\n",
      "19:\tlearn: 0.4554331\ttotal: 9.17ms\tremaining: 36.7ms\n",
      "20:\tlearn: 0.4541865\ttotal: 9.57ms\tremaining: 36ms\n",
      "21:\tlearn: 0.4523825\ttotal: 10ms\tremaining: 35.5ms\n",
      "22:\tlearn: 0.4495049\ttotal: 10.4ms\tremaining: 34.8ms\n",
      "23:\tlearn: 0.4473155\ttotal: 10.9ms\tremaining: 34.4ms\n",
      "24:\tlearn: 0.4447669\ttotal: 11.3ms\tremaining: 33.9ms\n",
      "25:\tlearn: 0.4426020\ttotal: 11.7ms\tremaining: 33.3ms\n",
      "26:\tlearn: 0.4410421\ttotal: 12.2ms\tremaining: 32.9ms\n",
      "27:\tlearn: 0.4403572\ttotal: 12.6ms\tremaining: 32.4ms\n",
      "28:\tlearn: 0.4392500\ttotal: 13ms\tremaining: 31.8ms\n",
      "29:\tlearn: 0.4375863\ttotal: 13.4ms\tremaining: 31.4ms\n",
      "30:\tlearn: 0.4368170\ttotal: 13.8ms\tremaining: 30.8ms\n",
      "31:\tlearn: 0.4360649\ttotal: 14.2ms\tremaining: 30.2ms\n",
      "32:\tlearn: 0.4349915\ttotal: 14.6ms\tremaining: 29.7ms\n",
      "33:\tlearn: 0.4341284\ttotal: 15ms\tremaining: 29.1ms\n",
      "34:\tlearn: 0.4325333\ttotal: 15.5ms\tremaining: 28.8ms\n",
      "35:\tlearn: 0.4311352\ttotal: 15.9ms\tremaining: 28.2ms\n",
      "36:\tlearn: 0.4298354\ttotal: 16.4ms\tremaining: 27.8ms\n",
      "37:\tlearn: 0.4295786\ttotal: 16.9ms\tremaining: 27.6ms\n",
      "38:\tlearn: 0.4290072\ttotal: 17.5ms\tremaining: 27.3ms\n",
      "39:\tlearn: 0.4279023\ttotal: 17.9ms\tremaining: 26.8ms\n",
      "40:\tlearn: 0.4268128\ttotal: 18.3ms\tremaining: 26.4ms\n",
      "41:\tlearn: 0.4256938\ttotal: 18.8ms\tremaining: 26ms\n",
      "42:\tlearn: 0.4248729\ttotal: 19.3ms\tremaining: 25.5ms\n",
      "43:\tlearn: 0.4246297\ttotal: 19.7ms\tremaining: 25ms\n",
      "44:\tlearn: 0.4243195\ttotal: 20.1ms\tremaining: 24.6ms\n",
      "45:\tlearn: 0.4239366\ttotal: 20.5ms\tremaining: 24.1ms\n",
      "46:\tlearn: 0.4236200\ttotal: 20.9ms\tremaining: 23.6ms\n",
      "47:\tlearn: 0.4228599\ttotal: 21.4ms\tremaining: 23.1ms\n",
      "48:\tlearn: 0.4218811\ttotal: 21.8ms\tremaining: 22.7ms\n",
      "49:\tlearn: 0.4217725\ttotal: 22.2ms\tremaining: 22.2ms\n",
      "50:\tlearn: 0.4213408\ttotal: 22.8ms\tremaining: 21.9ms\n",
      "51:\tlearn: 0.4207879\ttotal: 23.2ms\tremaining: 21.4ms\n",
      "52:\tlearn: 0.4205010\ttotal: 23.6ms\tremaining: 20.9ms\n",
      "53:\tlearn: 0.4187013\ttotal: 24ms\tremaining: 20.4ms\n",
      "54:\tlearn: 0.4183785\ttotal: 24.4ms\tremaining: 19.9ms\n",
      "55:\tlearn: 0.4168720\ttotal: 24.9ms\tremaining: 19.6ms\n",
      "56:\tlearn: 0.4166417\ttotal: 25.3ms\tremaining: 19.1ms\n",
      "57:\tlearn: 0.4153918\ttotal: 25.8ms\tremaining: 18.7ms\n",
      "58:\tlearn: 0.4151730\ttotal: 26.2ms\tremaining: 18.2ms\n",
      "59:\tlearn: 0.4149710\ttotal: 26.5ms\tremaining: 17.7ms\n",
      "60:\tlearn: 0.4144438\ttotal: 26.9ms\tremaining: 17.2ms\n",
      "61:\tlearn: 0.4142109\ttotal: 27.4ms\tremaining: 16.8ms\n",
      "62:\tlearn: 0.4140356\ttotal: 27.9ms\tremaining: 16.4ms\n",
      "63:\tlearn: 0.4138406\ttotal: 28.3ms\tremaining: 15.9ms\n",
      "64:\tlearn: 0.4136645\ttotal: 28.7ms\tremaining: 15.4ms\n",
      "65:\tlearn: 0.4132625\ttotal: 29.1ms\tremaining: 15ms\n",
      "66:\tlearn: 0.4131083\ttotal: 29.5ms\tremaining: 14.5ms\n",
      "67:\tlearn: 0.4126827\ttotal: 29.9ms\tremaining: 14.1ms\n",
      "68:\tlearn: 0.4125749\ttotal: 30.2ms\tremaining: 13.6ms\n",
      "69:\tlearn: 0.4124759\ttotal: 30.6ms\tremaining: 13.1ms\n",
      "70:\tlearn: 0.4123509\ttotal: 31ms\tremaining: 12.7ms\n",
      "71:\tlearn: 0.4121841\ttotal: 31.4ms\tremaining: 12.2ms\n",
      "72:\tlearn: 0.4117113\ttotal: 31.8ms\tremaining: 11.8ms\n",
      "73:\tlearn: 0.4113684\ttotal: 32.3ms\tremaining: 11.3ms\n",
      "74:\tlearn: 0.4110821\ttotal: 32.7ms\tremaining: 10.9ms\n",
      "75:\tlearn: 0.4108789\ttotal: 33.1ms\tremaining: 10.4ms\n",
      "76:\tlearn: 0.4105492\ttotal: 33.5ms\tremaining: 10ms\n",
      "77:\tlearn: 0.4104776\ttotal: 33.9ms\tremaining: 9.56ms\n",
      "78:\tlearn: 0.4103929\ttotal: 34.3ms\tremaining: 9.11ms\n",
      "79:\tlearn: 0.4102663\ttotal: 34.6ms\tremaining: 8.65ms\n",
      "80:\tlearn: 0.4100208\ttotal: 35ms\tremaining: 8.21ms\n",
      "81:\tlearn: 0.4098962\ttotal: 35.5ms\tremaining: 7.78ms\n",
      "82:\tlearn: 0.4097823\ttotal: 35.8ms\tremaining: 7.34ms\n",
      "83:\tlearn: 0.4096936\ttotal: 36.2ms\tremaining: 6.9ms\n",
      "84:\tlearn: 0.4095231\ttotal: 36.6ms\tremaining: 6.46ms\n",
      "85:\tlearn: 0.4094051\ttotal: 37.1ms\tremaining: 6.04ms\n",
      "86:\tlearn: 0.4091485\ttotal: 37.5ms\tremaining: 5.61ms\n",
      "87:\tlearn: 0.4089262\ttotal: 37.9ms\tremaining: 5.17ms\n",
      "88:\tlearn: 0.4087494\ttotal: 38.3ms\tremaining: 4.74ms\n",
      "89:\tlearn: 0.4077190\ttotal: 38.8ms\tremaining: 4.31ms\n",
      "90:\tlearn: 0.4076141\ttotal: 39.3ms\tremaining: 3.89ms\n",
      "91:\tlearn: 0.4075211\ttotal: 39.7ms\tremaining: 3.46ms\n",
      "92:\tlearn: 0.4073065\ttotal: 40.2ms\tremaining: 3.03ms\n",
      "93:\tlearn: 0.4072313\ttotal: 40.6ms\tremaining: 2.59ms\n",
      "94:\tlearn: 0.4071528\ttotal: 41.1ms\tremaining: 2.16ms\n",
      "95:\tlearn: 0.4070511\ttotal: 41.7ms\tremaining: 1.74ms\n",
      "96:\tlearn: 0.4069663\ttotal: 42.1ms\tremaining: 1.3ms\n",
      "97:\tlearn: 0.4068720\ttotal: 42.5ms\tremaining: 867us\n",
      "98:\tlearn: 0.4067178\ttotal: 42.9ms\tremaining: 433us\n",
      "99:\tlearn: 0.4066296\ttotal: 43.3ms\tremaining: 0us\n"
     ]
    }
   ],
   "source": [
    "model = pipeline1.fit(X_train, y_train)"
   ]
  },
  {
   "cell_type": "code",
   "execution_count": 151,
   "id": "2c469c7c-a2c7-48c0-acd4-e3d05843f490",
   "metadata": {},
   "outputs": [
    {
     "data": {
      "text/plain": [
       "0.7932960893854749"
      ]
     },
     "execution_count": 151,
     "metadata": {},
     "output_type": "execute_result"
    }
   ],
   "source": [
    "y_predict = model.predict(X_test)\n",
    "accuracy_score(y_predict, y_test)"
   ]
  },
  {
   "cell_type": "code",
   "execution_count": 147,
   "id": "ef048163-c5ca-4ae9-99a9-6cf020caedf1",
   "metadata": {},
   "outputs": [],
   "source": [
    "X_testT = pd.read_csv('files/titanic_test.csv')\n",
    "X_testT[['Age', 'Fare']] = X_testT[['Age', 'Fare']].fillna(data[['Age', 'Fare']].mean())\n",
    "y_pred = model.predict(X_testT)\n",
    "\n",
    "answer = pd.DataFrame({'PassengerId': X_testT.PassengerId, 'Survived': y_pred})\n",
    "answer.to_csv('files/titanic_answ.csv', index=False)"
   ]
  },
  {
   "cell_type": "code",
   "execution_count": null,
   "id": "0d0e0f94-a6b7-4a7e-bfe7-ca5c3518e4a1",
   "metadata": {},
   "outputs": [],
   "source": []
  }
 ],
 "metadata": {
  "kernelspec": {
   "display_name": "Python 3 (ipykernel)",
   "language": "python",
   "name": "python3"
  },
  "language_info": {
   "codemirror_mode": {
    "name": "ipython",
    "version": 3
   },
   "file_extension": ".py",
   "mimetype": "text/x-python",
   "name": "python",
   "nbconvert_exporter": "python",
   "pygments_lexer": "ipython3",
   "version": "3.8.5"
  }
 },
 "nbformat": 4,
 "nbformat_minor": 5
}
