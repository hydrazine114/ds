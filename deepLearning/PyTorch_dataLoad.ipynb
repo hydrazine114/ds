{
 "cells": [
  {
   "cell_type": "code",
   "execution_count": 37,
   "id": "db119ccb-1b8b-4aa7-ba8a-9f8bd9219b0d",
   "metadata": {},
   "outputs": [],
   "source": [
    "import torch\n",
    "from torch.utils.data import Dataset\n",
    "from torchvision.transforms import ToTensor\n",
    "import matplotlib.pyplot as plt\n",
    "import os\n",
    "from torch import nn\n",
    "from torchvision import datasets, transforms\n",
    "from torch.utils.data import DataLoader\n",
    "from tqdm.notebook import tqdm"
   ]
  },
  {
   "cell_type": "code",
   "execution_count": 38,
   "id": "95edb44e-5c70-4a97-928c-28103b14b5f1",
   "metadata": {},
   "outputs": [
    {
     "data": {
      "text/plain": [
       "torch.Size([28, 28])"
      ]
     },
     "execution_count": 38,
     "metadata": {},
     "output_type": "execute_result"
    }
   ],
   "source": [
    "training_data = datasets.FashionMNIST(\n",
    "    root=\"data\",\n",
    "    train=True,\n",
    "    download=True,\n",
    "    transform=ToTensor()\n",
    ")\n",
    "\n",
    "test_data = datasets.FashionMNIST(\n",
    "    root=\"data\",\n",
    "    train=False,\n",
    "    download=True,\n",
    "    transform=ToTensor()\n",
    ")\n",
    "training_data.data[0].size()"
   ]
  },
  {
   "cell_type": "code",
   "execution_count": 44,
   "id": "0524718a-97b1-4e70-8b4b-2c997ffd682e",
   "metadata": {},
   "outputs": [
    {
     "data": {
      "text/plain": [
       "torch.int64"
      ]
     },
     "execution_count": 44,
     "metadata": {},
     "output_type": "execute_result"
    }
   ],
   "source": [
    "train_dataloader = DataLoader(training_data, batch_size=4, shuffle=True)\n",
    "test_dataloader = DataLoader(test_data, batch_size=4, shuffle=True)\n",
    "next(iter(train_dataloader))[1].dtype"
   ]
  },
  {
   "cell_type": "code",
   "execution_count": 9,
   "id": "4107bf0e-e985-4636-a214-65903456b858",
   "metadata": {},
   "outputs": [],
   "source": [
    "model = nn.Sequential(\n",
    "    nn.Flatten(),\n",
    "    nn.Linear(in_features=28*28, out_features=20),\n",
    "    nn.ReLU(),\n",
    "    nn.Linear(20, 10)\n",
    ")\n",
    "optimizer = torch.optim.SGD(model.parameters(), lr=0.05)"
   ]
  },
  {
   "cell_type": "code",
   "execution_count": 34,
   "id": "67fc1f22-eccc-4253-8a72-1d86ed82195f",
   "metadata": {},
   "outputs": [
    {
     "data": {
      "application/vnd.jupyter.widget-view+json": {
       "model_id": "e4a45030ef8d425bbffd9ad493bd8bc9",
       "version_major": 2,
       "version_minor": 0
      },
      "text/plain": [
       "  0%|          | 0/15000 [00:00<?, ?it/s]"
      ]
     },
     "metadata": {},
     "output_type": "display_data"
    },
    {
     "name": "stdout",
     "output_type": "stream",
     "text": [
      "tensor([[ -0.6011,  12.0335,  -1.3341,   4.0659,   0.8288,  -9.3607,  -1.5886,\n",
      "          -1.1713,  -2.9488,  -3.7245],\n",
      "        [  2.8210,  11.1362,   0.5633,   5.1048,  -0.1051, -12.7422,  -1.2816,\n",
      "          -3.1058,  -3.1627,  -5.8256],\n",
      "        [ -2.8955,   1.5315,   5.5903,  -0.6014,   6.3271,  -3.2246,   3.9398,\n",
      "          -7.2709,  -1.1803,  -7.5263],\n",
      "        [  1.0021,   3.3338,  -0.3566,   7.6992,  -1.1745,  -7.5382,  -0.6912,\n",
      "          -2.3422,  -2.5256,  -2.4599]], grad_fn=<AddmmBackward0>) tensor([1, 1, 4, 3])\n"
     ]
    }
   ],
   "source": [
    "for epoch in range(5):\n",
    "    for x_train, y_train in tqdm(train_dataloader):\n",
    "        y_pred = model(x_train) # делаем предсказания\n",
    "        print(, y_train)\n",
    "        break\n",
    "        loss = nn.CrossEntropyLoss()(y_pred, y_train) # считаем лосс\n",
    "        loss.backward() # считаем градиенты обратным проходом\n",
    "        optimizer.step() # обновляем параметры сети\n",
    "        optimizer.zero_grad() # обнуляем посчитанные градиенты параметров\n",
    "    break\n",
    "    mean_val_loss = [] # сюда будем складывать средний лосс по батчам\n",
    "    val_accuracy = []\n",
    "    with torch.no_grad(): # мы считаем качество, поэтому мы запрещаем фреймворку считать градиенты по параметрам\n",
    "        for x_val, y_val in tqdm(test_dataloader): # берем батч из вал лоадера\n",
    "            y_pred = model(x_val) # делаем предсказания\n",
    "            loss = nn.CrossEntropyLoss()(y_pred, y_val) # считаем лосс\n",
    "            mean_val_loss.append(loss.numpy()) # добавляем в массив \n",
    "            val_accuracy.extend((torch.argmax(y_pred, dim=-1) == y_val).numpy().tolist())\n",
    "    print('Epoch: {epoch}, loss: {loss}, accuracy: {accuracy}'.format(epoch=epoch, loss=np.mean(mean_val_loss), accuracy=np.mean(val_accuracy)))"
   ]
  }
 ],
 "metadata": {
  "kernelspec": {
   "display_name": "Python 3 (ipykernel)",
   "language": "python",
   "name": "python3"
  },
  "language_info": {
   "codemirror_mode": {
    "name": "ipython",
    "version": 3
   },
   "file_extension": ".py",
   "mimetype": "text/x-python",
   "name": "python",
   "nbconvert_exporter": "python",
   "pygments_lexer": "ipython3",
   "version": "3.8.12"
  }
 },
 "nbformat": 4,
 "nbformat_minor": 5
}
