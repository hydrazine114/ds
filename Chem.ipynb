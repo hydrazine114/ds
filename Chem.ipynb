{
 "cells": [
  {
   "cell_type": "code",
   "execution_count": 1,
   "id": "e38cc630-0705-4d13-8a81-453266eb3a1c",
   "metadata": {},
   "outputs": [],
   "source": [
    "import numpy as np\n",
    "import pandas as pd\n",
    "import matplotlib.pyplot as plt\n",
    "import networkx as nx"
   ]
  },
  {
   "cell_type": "code",
   "execution_count": 9,
   "id": "0784c52d-b0a7-4e9f-ac03-bd1a4f904364",
   "metadata": {},
   "outputs": [
    {
     "data": {
      "text/plain": [
       "array([[0.        , 1.73205081, 3.46410162],\n",
       "       [1.73205081, 0.        , 1.73205081],\n",
       "       [3.46410162, 1.73205081, 0.        ]])"
      ]
     },
     "execution_count": 9,
     "metadata": {},
     "output_type": "execute_result"
    }
   ],
   "source": [
    "a = np.array([[0, 0, 0],\n",
    "             [1, 1, 1],\n",
    "             [2, 2, 2]])\n",
    "np.sum((a[:, np.newaxis] - a)**2, axis=-1)**0.5"
   ]
  },
  {
   "cell_type": "code",
   "execution_count": 69,
   "id": "71ae733c-b04c-4a68-8061-26e0848c9d08",
   "metadata": {},
   "outputs": [
    {
     "data": {
      "text/plain": [
       "9.0"
      ]
     },
     "execution_count": 69,
     "metadata": {},
     "output_type": "execute_result"
    }
   ],
   "source": [
    "G = nx.Graph()\n",
    "G.add_edges_from([ ('N12', 'C10'), ('N22', 'C10'), ('C10', 'O10')])\n",
    "\n",
    "nx.algorithms.wiener_index(G)"
   ]
  },
  {
   "cell_type": "code",
   "execution_count": 89,
   "id": "a0f8c086-6606-452b-9dff-fca45457d325",
   "metadata": {},
   "outputs": [
    {
     "name": "stdout",
     "output_type": "stream",
     "text": [
      "Mochevina\n",
      "Randic index = 1.354\n",
      "Winer index = 9.000\n",
      "\n",
      "izobut\n",
      "Randic index = 1.732\n",
      "Winer index = 9.000\n",
      "\n",
      "aceton\n",
      "Randic index = 1.354\n",
      "Winer index = 9.000\n",
      "\n",
      "izopropanol\n",
      "Randic index = 1.732\n",
      "Winer index = 9.000\n",
      "\n"
     ]
    }
   ],
   "source": [
    "def give_index(G):\n",
    "    bonds = {'C': 4, 'N': 3, 'O': 2}\n",
    "    hi = {i: 0 for i in range(1, 17)}\n",
    "    for node in G.nodes():\n",
    "        sigmaI = bonds[node[0]] - int(node[-1])\n",
    "        for key in G.adj[node].keys():\n",
    "            hi[sigmaI * (bonds[key[0]] - int(key[-1]))] += 1\n",
    "\n",
    "    ir = 0\n",
    "    for key in hi.keys():\n",
    "        if hi[key] != 0:\n",
    "            ir += 0.5 * hi[key] * key ** (-0.5)\n",
    "\n",
    "    print('Randic index = {:.3f}\\nWiner index = {:.3f}\\n'.format(ir, nx.algorithms.wiener_index(G)))\n",
    "    \n",
    "mochevina = nx.Graph()\n",
    "mochevina.add_edges_from([ ('N12', 'C10'), ('N22', 'C10'), ('C10', 'O10')])\n",
    "\n",
    "izobut = nx.Graph()\n",
    "izobut.add_edges_from([ ('C13', 'C21'), ('C33', 'C21'), ('C43', 'C21') ])\n",
    "\n",
    "aceton = nx.Graph()\n",
    "aceton.add_edges_from([ ('C13', 'C20'), ('C33', 'C20'), ('O10', 'C20') ])\n",
    "\n",
    "izoprop = nx.Graph()\n",
    "izoprop.add_edges_from([ ('C13', 'C21'), ('C33', 'C21'), ('O11', 'C21') ])\n",
    "\n",
    "print('Mochevina')\n",
    "give_index(mochevina)\n",
    "print('izobut')\n",
    "give_index(izobut)\n",
    "print('aceton')\n",
    "give_index(aceton)\n",
    "print('izopropanol')\n",
    "give_index(izoprop)"
   ]
  },
  {
   "cell_type": "code",
   "execution_count": 3,
   "id": "38be3a18-f217-4b44-950d-209a1080eca7",
   "metadata": {},
   "outputs": [
    {
     "data": {
      "text/plain": [
       "(3, 160)"
      ]
     },
     "execution_count": 3,
     "metadata": {},
     "output_type": "execute_result"
    }
   ],
   "source": [
    "def same_structure_as(original, other):\n",
    "    pass\n",
    "\n",
    "same_structure_as([1,[1,1]],[2,[2,2]]), same_structure_as([1,[1,1]],[[2,2],2])"
   ]
  },
  {
   "cell_type": "code",
   "execution_count": 5,
   "id": "5d7ec506-ef8e-4034-9fef-138a02685672",
   "metadata": {},
   "outputs": [
    {
     "data": {
      "text/plain": [
       "1.2999999965401798e-08"
      ]
     },
     "execution_count": 5,
     "metadata": {},
     "output_type": "execute_result"
    }
   ],
   "source": [
    "def f0(x):\n",
    "    return (1+x)**0.5 - 1\n",
    "f0(2.6e-08)"
   ]
  },
  {
   "cell_type": "code",
   "execution_count": 92,
   "id": "7e4e95df-e9c0-4d9e-ae19-0672d83ddcf4",
   "metadata": {},
   "outputs": [
    {
     "data": {
      "text/plain": [
       "1.2999999965401798e-08"
      ]
     },
     "execution_count": 92,
     "metadata": {},
     "output_type": "execute_result"
    }
   ],
   "source": [
    "from scipy.special import factorial\n",
    "import numpy as np\n",
    "def f(x):\n",
    "    return np.sqrt(x)\n",
    "f0(2.6e-08)"
   ]
  },
  {
   "cell_type": "code",
   "execution_count": null,
   "id": "4085c520-d3f1-498f-9915-a3229732c679",
   "metadata": {},
   "outputs": [],
   "source": [
    "t = 283\n",
    "for f in ['md.mdp', 'nvt.mdp', 'npt.mdp']:\n",
    "    data = []\n",
    "    with open(f) as file:\n",
    "        for line in file:\n",
    "            data.append(line)\n",
    "    for cnt, i in enumerate(data):\n",
    "        if 'ref_t' == i[:5]:\n",
    "            print(i)\n",
    "            i = f'ref_t                   = {t}                ; reference temperature, one for each group, in K\\n'\n",
    "    with open(f, 'w') as file:\n",
    "        for i in data:\n",
    "            file.write(i)"
   ]
  }
 ],
 "metadata": {
  "kernelspec": {
   "display_name": "Python 3 (ipykernel)",
   "language": "python",
   "name": "python3"
  },
  "language_info": {
   "codemirror_mode": {
    "name": "ipython",
    "version": 3
   },
   "file_extension": ".py",
   "mimetype": "text/x-python",
   "name": "python",
   "nbconvert_exporter": "python",
   "pygments_lexer": "ipython3",
   "version": "3.8.5"
  }
 },
 "nbformat": 4,
 "nbformat_minor": 5
}
