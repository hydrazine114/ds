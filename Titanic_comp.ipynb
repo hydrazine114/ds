{
 "cells": [
  {
   "cell_type": "code",
   "execution_count": 59,
   "id": "7dc5f495-c5dd-4c1d-833d-276ca7f93065",
   "metadata": {},
   "outputs": [],
   "source": [
    "import numpy as np\n",
    "import matplotlib.pyplot as plt\n",
    "import pandas as pd\n",
    "from sklearn.model_selection import train_test_split, StratifiedKFold as SK\n",
    "from sklearn.linear_model import Lasso\n",
    "from sklearn.preprocessing import StandardScaler, OneHotEncoder, OrdinalEncoder, StandardScaler\n",
    "from sklearn.compose import ColumnTransformer\n",
    "from sklearn.pipeline import Pipeline\n",
    "import xgboost\n",
    "import catboost\n",
    "from sklearn.ensemble import GradientBoostingClassifier, AdaBoostClassifier, HistGradientBoostingClassifier, VotingClassifier, RandomForestClassifier\n",
    "from sklearn.metrics import roc_auc_score, confusion_matrix, accuracy_score"
   ]
  },
  {
   "cell_type": "code",
   "execution_count": 109,
   "id": "0f8d8772-4d9e-4f62-8379-10b90c38a025",
   "metadata": {},
   "outputs": [],
   "source": [
    "data_train = pd.read_csv('files/titanic.csv')\n",
    "data_test = pd.read_csv('files/titanic_test.csv')\n",
    "all_df=pd.concat([data_train, data_test], ignore_index=True,sort=False)"
   ]
  },
  {
   "cell_type": "code",
   "execution_count": 110,
   "id": "84928219-8856-4e68-90b4-fc88085a16ce",
   "metadata": {},
   "outputs": [
    {
     "name": "stdout",
     "output_type": "stream",
     "text": [
      "PassengerId 0.00000\n",
      "Survived   0.31933\n",
      "Pclass     0.00000\n",
      "Name       0.00000\n",
      "Sex        0.00000\n",
      "Age        0.20092\n",
      "SibSp      0.00000\n",
      "Parch      0.00000\n",
      "Ticket     0.00000\n",
      "Fare       0.00076\n",
      "Cabin      0.77464\n",
      "Embarked   0.00153\n"
     ]
    }
   ],
   "source": [
    "for i in all_df.columns:\n",
    "    print('{:10s} {:.5f}'.format(i, np.sum(all_df[i].isnull())/all_df.shape[0] ))"
   ]
  },
  {
   "cell_type": "markdown",
   "id": "78f6535b-22d7-497d-9c81-2725b23a6fac",
   "metadata": {
    "tags": []
   },
   "source": [
    "### Fill NA\n",
    "We will fill Age based on sex, Pclass and Fare. Sum SibSp and Parch and fill Embarked with most popular - S"
   ]
  },
  {
   "cell_type": "code",
   "execution_count": 111,
   "id": "5a2eb619-916c-4050-af9f-a59ce5b20541",
   "metadata": {},
   "outputs": [
    {
     "data": {
      "text/html": [
       "<div>\n",
       "<style scoped>\n",
       "    .dataframe tbody tr th:only-of-type {\n",
       "        vertical-align: middle;\n",
       "    }\n",
       "\n",
       "    .dataframe tbody tr th {\n",
       "        vertical-align: top;\n",
       "    }\n",
       "\n",
       "    .dataframe thead th {\n",
       "        text-align: right;\n",
       "    }\n",
       "</style>\n",
       "<table border=\"1\" class=\"dataframe\">\n",
       "  <thead>\n",
       "    <tr style=\"text-align: right;\">\n",
       "      <th></th>\n",
       "      <th>PassengerId</th>\n",
       "      <th>Survived</th>\n",
       "      <th>Pclass</th>\n",
       "      <th>Name</th>\n",
       "      <th>Sex</th>\n",
       "      <th>Age</th>\n",
       "      <th>SibSp</th>\n",
       "      <th>Parch</th>\n",
       "      <th>Ticket</th>\n",
       "      <th>Fare</th>\n",
       "      <th>Cabin</th>\n",
       "      <th>Embarked</th>\n",
       "      <th>Rel</th>\n",
       "    </tr>\n",
       "  </thead>\n",
       "  <tbody>\n",
       "    <tr>\n",
       "      <th>0</th>\n",
       "      <td>1</td>\n",
       "      <td>0.0</td>\n",
       "      <td>3</td>\n",
       "      <td>Braund, Mr. Owen Harris</td>\n",
       "      <td>male</td>\n",
       "      <td>22.0</td>\n",
       "      <td>1</td>\n",
       "      <td>0</td>\n",
       "      <td>A/5 21171</td>\n",
       "      <td>7.2500</td>\n",
       "      <td>NaN</td>\n",
       "      <td>S</td>\n",
       "      <td>1</td>\n",
       "    </tr>\n",
       "    <tr>\n",
       "      <th>1</th>\n",
       "      <td>2</td>\n",
       "      <td>1.0</td>\n",
       "      <td>1</td>\n",
       "      <td>Cumings, Mrs. John Bradley (Florence Briggs Th...</td>\n",
       "      <td>female</td>\n",
       "      <td>38.0</td>\n",
       "      <td>1</td>\n",
       "      <td>0</td>\n",
       "      <td>PC 17599</td>\n",
       "      <td>71.2833</td>\n",
       "      <td>C85</td>\n",
       "      <td>C</td>\n",
       "      <td>1</td>\n",
       "    </tr>\n",
       "    <tr>\n",
       "      <th>2</th>\n",
       "      <td>3</td>\n",
       "      <td>1.0</td>\n",
       "      <td>3</td>\n",
       "      <td>Heikkinen, Miss. Laina</td>\n",
       "      <td>female</td>\n",
       "      <td>26.0</td>\n",
       "      <td>0</td>\n",
       "      <td>0</td>\n",
       "      <td>STON/O2. 3101282</td>\n",
       "      <td>7.9250</td>\n",
       "      <td>NaN</td>\n",
       "      <td>S</td>\n",
       "      <td>0</td>\n",
       "    </tr>\n",
       "    <tr>\n",
       "      <th>3</th>\n",
       "      <td>4</td>\n",
       "      <td>1.0</td>\n",
       "      <td>1</td>\n",
       "      <td>Futrelle, Mrs. Jacques Heath (Lily May Peel)</td>\n",
       "      <td>female</td>\n",
       "      <td>35.0</td>\n",
       "      <td>1</td>\n",
       "      <td>0</td>\n",
       "      <td>113803</td>\n",
       "      <td>53.1000</td>\n",
       "      <td>C123</td>\n",
       "      <td>S</td>\n",
       "      <td>1</td>\n",
       "    </tr>\n",
       "    <tr>\n",
       "      <th>4</th>\n",
       "      <td>5</td>\n",
       "      <td>0.0</td>\n",
       "      <td>3</td>\n",
       "      <td>Allen, Mr. William Henry</td>\n",
       "      <td>male</td>\n",
       "      <td>35.0</td>\n",
       "      <td>0</td>\n",
       "      <td>0</td>\n",
       "      <td>373450</td>\n",
       "      <td>8.0500</td>\n",
       "      <td>NaN</td>\n",
       "      <td>S</td>\n",
       "      <td>0</td>\n",
       "    </tr>\n",
       "  </tbody>\n",
       "</table>\n",
       "</div>"
      ],
      "text/plain": [
       "   PassengerId  Survived  Pclass  \\\n",
       "0            1       0.0       3   \n",
       "1            2       1.0       1   \n",
       "2            3       1.0       3   \n",
       "3            4       1.0       1   \n",
       "4            5       0.0       3   \n",
       "\n",
       "                                                Name     Sex   Age  SibSp  \\\n",
       "0                            Braund, Mr. Owen Harris    male  22.0      1   \n",
       "1  Cumings, Mrs. John Bradley (Florence Briggs Th...  female  38.0      1   \n",
       "2                             Heikkinen, Miss. Laina  female  26.0      0   \n",
       "3       Futrelle, Mrs. Jacques Heath (Lily May Peel)  female  35.0      1   \n",
       "4                           Allen, Mr. William Henry    male  35.0      0   \n",
       "\n",
       "   Parch            Ticket     Fare Cabin Embarked  Rel  \n",
       "0      0         A/5 21171   7.2500   NaN        S    1  \n",
       "1      0          PC 17599  71.2833   C85        C    1  \n",
       "2      0  STON/O2. 3101282   7.9250   NaN        S    0  \n",
       "3      0            113803  53.1000  C123        S    1  \n",
       "4      0            373450   8.0500   NaN        S    0  "
      ]
     },
     "execution_count": 111,
     "metadata": {},
     "output_type": "execute_result"
    }
   ],
   "source": [
    "column_transformer = ColumnTransformer([\n",
    "    ('ohe', OneHotEncoder(handle_unknown=\"ignore\"), ['Pclass', 'Sex']),\n",
    "    ('scaling', StandardScaler(), ['Fare'])\n",
    "])\n",
    "\n",
    "pipeline = Pipeline(steps=[\n",
    "    ('ohe_and_scaling', column_transformer),\n",
    "    ('regression', Lasso(alpha=0.1))\n",
    "])\n",
    "\n",
    "all_df['Fare'] = all_df['Fare'].fillna(all_df.loc[(all_df.Pclass==3) * (all_df.Sex=='male') * all_df.Fare.notnull(), 'Fare'].mean())\n",
    "\n",
    "X_withAge = all_df[all_df.Age.notnull()]\n",
    "y_withAge = all_df[all_df.Age.notnull()]['Age']\n",
    "X_withoutAge = all_df[all_df.Age.isnull()]\n",
    "\n",
    "predictAge = pipeline.fit(X_withAge, y_withAge)\n",
    "age_predict = predictAge.predict(X_withoutAge)\n",
    "\n",
    "all_df.loc[all_df.Age.isnull(), 'Age'] = age_predict\n",
    "all_df['Rel'] = all_df.SibSp + all_df.Parch\n",
    "all_df.loc[all_df.Embarked.isnull(), 'Embarked'] = 'S'\n",
    "all_df.head()"
   ]
  },
  {
   "cell_type": "code",
   "execution_count": 112,
   "id": "caca37f2-f714-408b-afd9-0c0ae1846795",
   "metadata": {},
   "outputs": [
    {
     "name": "stdout",
     "output_type": "stream",
     "text": [
      "PassengerId 0.00000\n",
      "Survived   0.31933\n",
      "Pclass     0.00000\n",
      "Name       0.00000\n",
      "Sex        0.00000\n",
      "Age        0.00000\n",
      "SibSp      0.00000\n",
      "Parch      0.00000\n",
      "Ticket     0.00000\n",
      "Fare       0.00000\n",
      "Cabin      0.77464\n",
      "Embarked   0.00000\n",
      "Rel        0.00000\n"
     ]
    }
   ],
   "source": [
    "for i in all_df.columns:\n",
    "    print('{:10s} {:.5f}'.format(i, np.sum(all_df[i].isnull())/all_df.shape[0] ))"
   ]
  },
  {
   "cell_type": "code",
   "execution_count": 12,
   "id": "c0ece43d-65b3-4a0e-b776-8dcb4686294f",
   "metadata": {},
   "outputs": [],
   "source": [
    "\n"
   ]
  },
  {
   "cell_type": "code",
   "execution_count": 58,
   "id": "68bfdb2b-da3a-4288-938f-9b1b19296a80",
   "metadata": {},
   "outputs": [
    {
     "data": {
      "text/plain": [
       "0.8237578027465668"
      ]
     },
     "execution_count": 58,
     "metadata": {},
     "output_type": "execute_result"
    }
   ],
   "source": [
    "categorical = ['Sex', 'Embarked']\n",
    "numeric_features = ['Pclass', 'Age', 'Fare', 'Rel']\n",
    "\n",
    "column_transformer = ColumnTransformer([\n",
    "    ('ohe', OrdinalEncoder(), categorical),\n",
    "    ('scaling', StandardScaler(), numeric_features) # how to not scaling?\n",
    "])\n",
    "\n",
    "cv = SK(n_splits=10, shuffle=True, random_state=42)\n",
    "acc = []\n",
    "models = []\n",
    "for i in cv.split(X, y):\n",
    "    pipeline2 = Pipeline(steps=[\n",
    "    ('preprocessor', column_transformer),\n",
    "    ('regression', xgboost.XGBClassifier(max_depth=3, eval_metric='logloss', n_estimators=100, learning_rate=0.5e-1, use_label_encoder=False))\n",
    "    ])\n",
    "    model = pipeline2.fit(X.iloc[i[0]], y.iloc[i[0]])\n",
    "    models.append(model)\n",
    "    y_pred = model.predict(X.iloc[i[1]])\n",
    "    acc.append(accuracy_score(y_pred, y.iloc[i[1]]))\n",
    "np.mean(acc)"
   ]
  },
  {
   "cell_type": "code",
   "execution_count": 52,
   "id": "c348db54-3a7f-4fef-a5ac-b90ac784b77a",
   "metadata": {},
   "outputs": [],
   "source": [
    "y_pred = np.vstack([models[i].predict(titanic_test) for i in range(10)])\n",
    "y_pred = (np.sum(y_pred, axis=0) > 5) * 1\n",
    "answer = pd.DataFrame({'PassengerId': titanic_test.PassengerId, 'Survived': y_pred})\n",
    "answer.to_csv('files/titanic_answ.csv', index=False)"
   ]
  }
 ],
 "metadata": {
  "kernelspec": {
   "display_name": "Python 3 (ipykernel)",
   "language": "python",
   "name": "python3"
  },
  "language_info": {
   "codemirror_mode": {
    "name": "ipython",
    "version": 3
   },
   "file_extension": ".py",
   "mimetype": "text/x-python",
   "name": "python",
   "nbconvert_exporter": "python",
   "pygments_lexer": "ipython3",
   "version": "3.8.5"
  }
 },
 "nbformat": 4,
 "nbformat_minor": 5
}
