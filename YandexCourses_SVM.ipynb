{
 "cells": [
  {
   "cell_type": "code",
   "execution_count": 1,
   "id": "868f8814-df93-4ef1-9bba-6ececadb4fce",
   "metadata": {},
   "outputs": [],
   "source": [
    "import pandas as pd\n",
    "import numpy as np\n",
    "import sklearn\n",
    "from sklearn import datasets\n",
    "\n",
    "newsgroups = datasets.fetch_20newsgroups(\n",
    "                    subset='all', \n",
    "                    categories=['alt.atheism', 'sci.space']\n",
    "             )"
   ]
  },
  {
   "cell_type": "code",
   "execution_count": 80,
   "id": "0d3f00f5-cf30-42a1-8ca2-d0edca386143",
   "metadata": {},
   "outputs": [],
   "source": [
    "from sklearn.feature_extraction.text import TfidfVectorizer\n",
    "X = newsgroups.data\n",
    "X = np.array(X)\n",
    "\n",
    "vectorizer = TfidfVectorizer()\n",
    "y = newsgroups.target\n",
    "X_vec = vectorizer.fit_transform(X)"
   ]
  },
  {
   "cell_type": "code",
   "execution_count": 86,
   "id": "f19a702d-ab3c-4fbb-9f0c-b603faf166ed",
   "metadata": {},
   "outputs": [
    {
     "data": {
      "text/plain": [
       "GridSearchCV(cv=KFold(n_splits=5, random_state=241, shuffle=True),\n",
       "             estimator=SVC(kernel='linear', random_state=241),\n",
       "             param_grid={'C': array([1.e-05, 1.e-04, 1.e-03, 1.e-02, 1.e-01, 1.e+00, 1.e+01, 1.e+02,\n",
       "       1.e+03, 1.e+04, 1.e+05])},\n",
       "             scoring='accuracy')"
      ]
     },
     "execution_count": 86,
     "metadata": {},
     "output_type": "execute_result"
    }
   ],
   "source": [
    "from sklearn.model_selection import GridSearchCV\n",
    "from sklearn.model_selection import KFold\n",
    "from sklearn.svm import SVC\n",
    "grid = {'C': np.power(10.0, np.arange(-5, 6))}\n",
    "cv = KFold(n_splits=5, shuffle=True, random_state=241)\n",
    "clf = SVC(kernel='linear', random_state=241)\n",
    "gs = GridSearchCV(clf, grid, scoring='accuracy', cv=cv)\n",
    "gs.fit(X_vec, y)"
   ]
  },
  {
   "cell_type": "code",
   "execution_count": 87,
   "id": "a4d4a71c-26dd-4924-9312-8a2b646b86b1",
   "metadata": {},
   "outputs": [
    {
     "data": {
      "text/plain": [
       "1.0"
      ]
     },
     "execution_count": 87,
     "metadata": {},
     "output_type": "execute_result"
    }
   ],
   "source": [
    "gs.best_params_['C']"
   ]
  },
  {
   "cell_type": "code",
   "execution_count": 88,
   "id": "e0b1c5ab-3c08-490e-9c1c-520e158de759",
   "metadata": {},
   "outputs": [
    {
     "data": {
      "text/plain": [
       "SVC(C=1, kernel='linear', random_state=241)"
      ]
     },
     "execution_count": 88,
     "metadata": {},
     "output_type": "execute_result"
    }
   ],
   "source": [
    "clf = SVC(kernel='linear', random_state=241, C=1)\n",
    "clf.fit(X_vec, y)"
   ]
  },
  {
   "cell_type": "code",
   "execution_count": 91,
   "id": "86d34412-11a2-43f7-9e24-923759ee7a86",
   "metadata": {},
   "outputs": [
    {
     "data": {
      "text/plain": [
       "array([22936, 15606,  5776, 21850, 23673, 17802,  5093,  5088, 12871,\n",
       "       24019], dtype=int64)"
      ]
     },
     "execution_count": 91,
     "metadata": {},
     "output_type": "execute_result"
    }
   ],
   "source": [
    "import scipy\n",
    "coefs = abs(clf.coef_.todense().A1)\n",
    "coefs = np.argsort(coefs)\n",
    "coefs[-10:]"
   ]
  },
  {
   "cell_type": "code",
   "execution_count": null,
   "id": "04d5e1eb-0549-4224-a3f8-fe8365e7cb0e",
   "metadata": {},
   "outputs": [],
   "source": [
    "# array([[22936, 15606,  5776, 21850, 23673, 17802,  5093,  5088, 12871,\n",
    "#         24019]], dtype=int64)"
   ]
  },
  {
   "cell_type": "code",
   "execution_count": 99,
   "id": "aad4b97c-6103-4e38-ba95-010ff1abce57",
   "metadata": {},
   "outputs": [
    {
     "name": "stdout",
     "output_type": "stream",
     "text": [
      "atheism atheists bible god keith moon religion sci sky space "
     ]
    }
   ],
   "source": [
    "a = list(vectorizer.get_feature_names_out()[coefs[-10:]])\n",
    "a.sort()\n",
    "for i in a:\n",
    "    print(i, end=' ')"
   ]
  }
 ],
 "metadata": {
  "kernelspec": {
   "display_name": "Python 3 (ipykernel)",
   "language": "python",
   "name": "python3"
  },
  "language_info": {
   "codemirror_mode": {
    "name": "ipython",
    "version": 3
   },
   "file_extension": ".py",
   "mimetype": "text/x-python",
   "name": "python",
   "nbconvert_exporter": "python",
   "pygments_lexer": "ipython3",
   "version": "3.8.5"
  }
 },
 "nbformat": 4,
 "nbformat_minor": 5
}
